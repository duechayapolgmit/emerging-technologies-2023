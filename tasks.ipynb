{
 "cells": [
  {
   "attachments": {},
   "cell_type": "markdown",
   "metadata": {},
   "source": [
    "# Emerging Technologies Tasks\n",
    "\n",
    "*By Chayapol \"Due\" Hongsrimuang, G00388741*\n",
    "\n",
    "---"
   ]
  },
  {
   "attachments": {},
   "cell_type": "markdown",
   "metadata": {},
   "source": [
    "# Task 1: Collatz Conjecture\n",
    "The Collatz Conjecture defines the pattern of a number when the number is parsed through the following function:"
   ]
  },
  {
   "cell_type": "code",
   "execution_count": 2,
   "metadata": {},
   "outputs": [],
   "source": [
    "def collatz_conjecture(number):\n",
    "    if (number % 2 == 0): # If the number is even, then return number / 2\n",
    "        return number / 2\n",
    "    else: # If the number is odd, then return (number * 3 + 1)\n",
    "        return (number * 3) + 1"
   ]
  },
  {
   "attachments": {},
   "cell_type": "markdown",
   "metadata": {},
   "source": [
    "When a number is continuously parsed through this function, there would be a pattern formed in the form of `(1, 4, 2, 1, 4, 2, ...)` This code below is used to determine whether the first 10,000 numbers would match the pattern or not."
   ]
  },
  {
   "cell_type": "code",
   "execution_count": 11,
   "metadata": {},
   "outputs": [
    {
     "name": "stdout",
     "output_type": "stream",
     "text": [
      "Task 1 Result: True\n"
     ]
    }
   ],
   "source": [
    "task_1_final_output = True # Assumed True first\n",
    "\n",
    "for i in range(1, 10001):\n",
    "    buffer = [0,0,0]\n",
    "    buffer_position = 0\n",
    "    pattern = 0 # increment if the pattern matches 1, 4, 2, 1, ... -- max of 10\n",
    "    attempt = 0 # max attempt of 1000\n",
    "\n",
    "    while (pattern != 10 and attempt <= 1000): # either if does not pattern or attempt below 1000\n",
    "        i = collatz_conjecture(i) # parsed into the algorithm\n",
    "\n",
    "        attempt += 1 # increment attempt count\n",
    "        buffer[buffer_position] = i # replace positon of buffer with number\n",
    "        \n",
    "        # increase buffer position\n",
    "        buffer_position += 1 \n",
    "        if (buffer_position == 3): buffer_position = 0 # resets to 0\n",
    "\n",
    "        # if previous number matches the pattern\n",
    "        if (buffer[buffer_position-1] == 1 or buffer[buffer_position-1] == 4 or buffer[buffer_position-1] == 2):\n",
    "            pattern += 1\n",
    "\n",
    "        # if attempt number is 1000, algorithm is not true\n",
    "        if (attempt == 1000): task_1_final_output = False\n",
    "    \n",
    "print(\"Task 1 Result: \"+str(task_1_final_output))"
   ]
  },
  {
   "attachments": {},
   "cell_type": "markdown",
   "metadata": {},
   "source": [
    "---\n",
    "# Task 2: Newton's Method\n",
    "This task concerns another way to calculate square roots using Newton's Method instead of the traditional Python way. The formula used is noted below."
   ]
  },
  {
   "cell_type": "code",
   "execution_count": 13,
   "metadata": {},
   "outputs": [],
   "source": [
    "def newtons_method(incremental, number): # incremental is the guessed number, number is the number you want to square root\n",
    "    return incremental - (incremental * incremental - number) / (2 * incremental)"
   ]
  },
  {
   "attachments": {},
   "cell_type": "markdown",
   "metadata": {},
   "source": [
    "This formula will continuously be ran until the difference between the previous guess and the current guess is exactly or below 0.01, as small as possible.\n",
    "Let's say that the number to square root is 24. The initial guess for this number would be the number divided by 2."
   ]
  },
  {
   "cell_type": "code",
   "execution_count": 23,
   "metadata": {},
   "outputs": [
    {
     "name": "stdout",
     "output_type": "stream",
     "text": [
      "Guesses:\n",
      "7.0\n",
      "5.214285714285714\n",
      "4.908512720156556\n",
      "4.8989887432139305\n"
     ]
    }
   ],
   "source": [
    "def sqrt(number):\n",
    "    initial_guess = number / 2\n",
    "    previous_guess = initial_guess\n",
    "    difference = 1\n",
    "\n",
    "    print(\"Guesses:\")\n",
    "    while (difference >= 0.01):\n",
    "        current_guess = newtons_method(previous_guess, number)\n",
    "        difference = previous_guess - current_guess\n",
    "        previous_guess = current_guess\n",
    "        print(previous_guess)\n",
    "    \n",
    "    return previous_guess\n",
    "\n",
    "task_2_assigned_number = 24\n",
    "task_2_result = sqrt(task_2_assigned_number)"
   ]
  },
  {
   "attachments": {},
   "cell_type": "markdown",
   "metadata": {},
   "source": [
    "Now to compare the difference between Python's square root function and the result:"
   ]
  },
  {
   "cell_type": "code",
   "execution_count": 24,
   "metadata": {},
   "outputs": [
    {
     "data": {
      "text/plain": [
       "9.257647574756334e-06"
      ]
     },
     "execution_count": 24,
     "metadata": {},
     "output_type": "execute_result"
    }
   ],
   "source": [
    "import numpy as np\n",
    "task_2_result - np.sqrt(task_2_assigned_number)"
   ]
  },
  {
   "attachments": {},
   "cell_type": "markdown",
   "metadata": {},
   "source": [
    "The guess is close to the actual calculated number from the `numpy` package."
   ]
  },
  {
   "attachments": {},
   "cell_type": "markdown",
   "metadata": {},
   "source": [
    "---\n",
    "End"
   ]
  }
 ],
 "metadata": {
  "kernelspec": {
   "display_name": "Python 3",
   "language": "python",
   "name": "python3"
  },
  "language_info": {
   "codemirror_mode": {
    "name": "ipython",
    "version": 3
   },
   "file_extension": ".py",
   "mimetype": "text/x-python",
   "name": "python",
   "nbconvert_exporter": "python",
   "pygments_lexer": "ipython3",
   "version": "3.11.1"
  },
  "orig_nbformat": 4
 },
 "nbformat": 4,
 "nbformat_minor": 2
}
