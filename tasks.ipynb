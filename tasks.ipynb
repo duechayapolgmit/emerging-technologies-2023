{
 "cells": [
  {
   "attachments": {},
   "cell_type": "markdown",
   "metadata": {},
   "source": [
    "# Emerging Technologies Tasks\n",
    "\n",
    "*By Chayapol \"Due\" Hongsrimuang, G00388741*\n",
    "\n",
    "---"
   ]
  },
  {
   "attachments": {},
   "cell_type": "markdown",
   "metadata": {},
   "source": [
    "# Task 1: Collatz Conjecture\n",
    "The Collatz Conjecture defines the pattern of a number when the number is parsed through the following function:"
   ]
  },
  {
   "cell_type": "code",
   "execution_count": 2,
   "metadata": {},
   "outputs": [],
   "source": [
    "def collatz_conjecture(number):\n",
    "    if (number % 2 == 0): # If the number is even, then return number / 2\n",
    "        return number / 2\n",
    "    else: # If the number is odd, then return (number * 3 + 1)\n",
    "        return (number * 3) + 1"
   ]
  },
  {
   "attachments": {},
   "cell_type": "markdown",
   "metadata": {},
   "source": [
    "When a number is continuously parsed through this function, there would be a pattern formed in the form of `(1, 4, 2, 1, 4, 2, ...)` This code below is used to determine whether the first 10,000 numbers would match the pattern or not."
   ]
  },
  {
   "cell_type": "code",
   "execution_count": 11,
   "metadata": {},
   "outputs": [
    {
     "name": "stdout",
     "output_type": "stream",
     "text": [
      "Task 1 Result: True\n"
     ]
    }
   ],
   "source": [
    "final_output = True # Assumed True first\n",
    "\n",
    "for i in range(1, 10001):\n",
    "    buffer = [0,0,0]\n",
    "    buffer_position = 0\n",
    "    pattern = 0 # increment if the pattern matches 1, 4, 2, 1, ... -- max of 10\n",
    "    attempt = 0 # max attempt of 1000\n",
    "\n",
    "    while (pattern != 10 and attempt <= 1000): # either if does not pattern or attempt below 1000\n",
    "        i = collatz_conjecture(i) # parsed into the algorithm\n",
    "\n",
    "        attempt += 1 # increment attempt count\n",
    "        buffer[buffer_position] = i # replace positon of buffer with number\n",
    "        \n",
    "        # increase buffer position\n",
    "        buffer_position += 1 \n",
    "        if (buffer_position == 3): buffer_position = 0 # resets to 0\n",
    "\n",
    "        # if previous number matches the pattern\n",
    "        if (buffer[buffer_position-1] == 1 or buffer[buffer_position-1] == 4 or buffer[buffer_position-1] == 2):\n",
    "            pattern += 1\n",
    "\n",
    "        # if attempt number is 1000, algorithm is not true\n",
    "        if (attempt == 1000): final_output = False\n",
    "    \n",
    "print(\"Task 1 Result: \"+str(final_output))"
   ]
  }
 ],
 "metadata": {
  "kernelspec": {
   "display_name": "Python 3",
   "language": "python",
   "name": "python3"
  },
  "language_info": {
   "codemirror_mode": {
    "name": "ipython",
    "version": 3
   },
   "file_extension": ".py",
   "mimetype": "text/x-python",
   "name": "python",
   "nbconvert_exporter": "python",
   "pygments_lexer": "ipython3",
   "version": "3.11.1"
  },
  "orig_nbformat": 4
 },
 "nbformat": 4,
 "nbformat_minor": 2
}
