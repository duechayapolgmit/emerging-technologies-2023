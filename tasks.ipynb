{
 "cells": [
  {
   "attachments": {},
   "cell_type": "markdown",
   "metadata": {},
   "source": [
    "# Emerging Technologies Tasks\n",
    "\n",
    "*By Chayapol \"Due\" Hongsrimuang, G00388741*\n",
    "\n",
    "---"
   ]
  },
  {
   "attachments": {},
   "cell_type": "markdown",
   "metadata": {},
   "source": [
    "# Task 1: Collatz Conjecture\n",
    "The Collatz Conjecture defines the pattern of a number when the number is parsed through the following function:"
   ]
  },
  {
   "cell_type": "code",
   "execution_count": null,
   "metadata": {},
   "outputs": [],
   "source": [
    "def collatz_conjecture(number):\n",
    "    if (number % 2 == 0): # If the number is even, then return number / 2\n",
    "        return number / 2\n",
    "    else: # If the number is odd, then return (number * 3 + 1)\n",
    "        return (number * 3) + 1"
   ]
  },
  {
   "attachments": {},
   "cell_type": "markdown",
   "metadata": {},
   "source": [
    "When a number is continuously parsed through this function, the "
   ]
  },
  {
   "cell_type": "code",
   "execution_count": 3,
   "metadata": {},
   "outputs": [
    {
     "ename": "KeyboardInterrupt",
     "evalue": "",
     "output_type": "error",
     "traceback": [
      "\u001b[1;31m---------------------------------------------------------------------------\u001b[0m",
      "\u001b[1;31mKeyboardInterrupt\u001b[0m                         Traceback (most recent call last)",
      "Cell \u001b[1;32mIn[3], line 11\u001b[0m\n\u001b[0;32m      8\u001b[0m attempt \u001b[39m=\u001b[39m \u001b[39m0\u001b[39m \u001b[39m# max attempt of 1000\u001b[39;00m\n\u001b[0;32m     10\u001b[0m \u001b[39m# Change the number by algorithm\u001b[39;00m\n\u001b[1;32m---> 11\u001b[0m \u001b[39mwhile\u001b[39;00m (pattern \u001b[39m!=\u001b[39m \u001b[39m2\u001b[39m \u001b[39mand\u001b[39;00m attempt \u001b[39m<\u001b[39m\u001b[39m=\u001b[39m \u001b[39m1000\u001b[39m):\n\u001b[0;32m     12\u001b[0m     \u001b[39mif\u001b[39;00m (i \u001b[39m%\u001b[39m \u001b[39m2\u001b[39m \u001b[39m==\u001b[39m \u001b[39m0\u001b[39m):\n\u001b[0;32m     13\u001b[0m         i \u001b[39m=\u001b[39m i \u001b[39m/\u001b[39m \u001b[39m2\u001b[39m\n",
      "\u001b[1;31mKeyboardInterrupt\u001b[0m: "
     ]
    }
   ],
   "source": [
    "final_output = True # Assumed True first\n",
    "\n",
    "#for i in range(1, 10001):\n",
    "for i in range(1, 10):\n",
    "    buffer = [0,0,0]\n",
    "    buffer_position = 0\n",
    "    pattern = 0 # increment if the pattern matches 1, 4, 2 -- max of 2\n",
    "    attempt = 0 # max attempt of 1000\n",
    "\n",
    "    # Change the number by algorithm\n",
    "    while (pattern != 2 and attempt <= 1000):\n",
    "        if (i % 2 == 0):\n",
    "            i = i / 2\n",
    "        else:\n",
    "            i = (i * 3) + 1\n",
    "\n",
    "    attempt += 1\n",
    "        \n"
   ]
  }
 ],
 "metadata": {
  "kernelspec": {
   "display_name": "Python 3",
   "language": "python",
   "name": "python3"
  },
  "language_info": {
   "codemirror_mode": {
    "name": "ipython",
    "version": 3
   },
   "file_extension": ".py",
   "mimetype": "text/x-python",
   "name": "python",
   "nbconvert_exporter": "python",
   "pygments_lexer": "ipython3",
   "version": "3.11.1"
  },
  "orig_nbformat": 4
 },
 "nbformat": 4,
 "nbformat_minor": 2
}
