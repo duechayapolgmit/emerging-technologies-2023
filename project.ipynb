{
 "cells": [
  {
   "cell_type": "markdown",
   "metadata": {},
   "source": [
    "# Deutsche's Algorithm\n",
    "\n",
    "*By Chayapol \"Due\" Hongsrimuang, G00388741*\n",
    "\n",
    "---\n",
    "\n",
    "## Introduction\n",
    "Deutsche's algorithm is ...."
   ]
  },
  {
   "cell_type": "markdown",
   "metadata": {},
   "source": [
    "# Operations (or Gates)\n",
    "Deutsche's algorithm involves a number of unitary (...) operations to be applied for each bit passing through."
   ]
  },
  {
   "cell_type": "markdown",
   "metadata": {},
   "source": [
    "## Hadamard Operation\n",
    "\n",
    "Hadamard operation (or Hadamard gate) is a unitary operation on a qubit, represented by H, and has these basic qubit states:\n",
    "\n",
    "$$\n",
    "|0\\rangle = \\frac{|0\\rangle+|1\\rangle}{\\sqrt{2}}\n",
    "|1\\rangle = \\frac{|0\\rangle-|1\\rangle}{\\sqrt{2}}\n",
    "$$\n",
    "\n",
    "Which maps into the following matrix.\n",
    "\n",
    "$$\n",
    "\\begin{pmatrix}\n",
    "\\frac{1}{\\sqrt{2}} & \\frac{1}{\\sqrt{2}} \\\\\n",
    "\\frac{1}{\\sqrt{2}} & - \\frac{1}{\\sqrt{2}} \n",
    "\\end{pmatrix}\n",
    "$$\n",
    "\n",
    "Each qubit state, when parsed through would transform the qubit between the regular 0 and 1 state with the + and - state as follow:\n",
    "\n",
    "$$\n",
    "H|0\\rangle = \\begin{pmatrix}\n",
    "\\frac{1}{\\sqrt{2}} & \\frac{1}{\\sqrt{2}} \\\\\n",
    "\\frac{1}{\\sqrt{2}} & - \\frac{1}{\\sqrt{2}} \n",
    "\\end{pmatrix}\n",
    "\\begin{pmatrix} 1 \\\\ 0 \\end{pmatrix} = \n",
    "\\begin{pmatrix}\n",
    "\\frac{1}{\\sqrt{2}}\\\\\n",
    "\\frac{1}{\\sqrt{2}}\n",
    "\\end{pmatrix} =\n",
    "|+\\rangle\n",
    "$$\n",
    "$$\n",
    "H|1\\rangle = \\begin{pmatrix}\n",
    "\\frac{1}{\\sqrt{2}} & \\frac{1}{\\sqrt{2}} \\\\\n",
    "\\frac{1}{\\sqrt{2}} & - \\frac{1}{\\sqrt{2}} \n",
    "\\end{pmatrix}\n",
    "\\begin{pmatrix} 0 \\\\ 1 \\end{pmatrix} = \n",
    "\\begin{pmatrix}\n",
    "\\frac{1}{\\sqrt{2}}\\\\\n",
    "- \\frac{1}{\\sqrt{2}}\n",
    "\\end{pmatrix} =\n",
    "|-\\rangle\n",
    "$$"
   ]
  }
 ],
 "metadata": {
  "language_info": {
   "name": "python"
  }
 },
 "nbformat": 4,
 "nbformat_minor": 2
}
