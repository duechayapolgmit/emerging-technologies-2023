{
 "cells": [
  {
   "cell_type": "markdown",
   "metadata": {},
   "source": [
    "# Deutsche's Algorithm\n",
    "\n",
    "*By Chayapol \"Due\" Hongsrimuang, G00388741*\n",
    "\n",
    "---\n",
    "\n",
    "## Introduction\n",
    "Deutsche's algorithm is ...."
   ]
  },
  {
   "cell_type": "markdown",
   "metadata": {},
   "source": [
    "# Operations (or Gates)\n",
    "Deutsche's algorithm involves a number of unitary (...) operations to be applied for each bit passing through."
   ]
  },
  {
   "cell_type": "markdown",
   "metadata": {},
   "source": [
    "## Hadamard Operation\n",
    "\n",
    "Hadamard operation (or Hadamard gate) is a unitary operation on a qubit, represented by H, and has these basic qubit states:\n",
    "\n",
    "$$\n",
    "|0\\rangle = \\frac{|0\\rangle+|1\\rangle}{\\sqrt{2}}\n",
    "|1\\rangle = \\frac{|0\\rangle-|1\\rangle}{\\sqrt{2}}\n",
    "$$\n",
    "\n",
    "Which maps into the following matrix.\n",
    "\n",
    "$$\n",
    "\\begin{pmatrix}\n",
    "\\frac{1}{\\sqrt{2}} & \\frac{1}{\\sqrt{2}} \\\\\n",
    "\\frac{1}{\\sqrt{2}} & - \\frac{1}{\\sqrt{2}} \n",
    "\\end{pmatrix}\n",
    "$$\n",
    "\n",
    "Each qubit state, when parsed through would transform the qubit between the regular 0 and 1 state with the + and - state as follow:\n",
    "\n",
    "$$\n",
    "H|0\\rangle = \\begin{pmatrix}\n",
    "\\frac{1}{\\sqrt{2}} & \\frac{1}{\\sqrt{2}} \\\\\n",
    "\\frac{1}{\\sqrt{2}} & - \\frac{1}{\\sqrt{2}} \n",
    "\\end{pmatrix}\n",
    "\\begin{pmatrix} 1 \\\\ 0 \\end{pmatrix} = \n",
    "\\begin{pmatrix}\n",
    "\\frac{1}{\\sqrt{2}}\\\\\n",
    "\\frac{1}{\\sqrt{2}}\n",
    "\\end{pmatrix} =\n",
    "|+\\rangle\n",
    "$$\n",
    "$$\n",
    "H|1\\rangle = \\begin{pmatrix}\n",
    "\\frac{1}{\\sqrt{2}} & \\frac{1}{\\sqrt{2}} \\\\\n",
    "\\frac{1}{\\sqrt{2}} & - \\frac{1}{\\sqrt{2}} \n",
    "\\end{pmatrix}\n",
    "\\begin{pmatrix} 0 \\\\ 1 \\end{pmatrix} = \n",
    "\\begin{pmatrix}\n",
    "\\frac{1}{\\sqrt{2}}\\\\\n",
    "- \\frac{1}{\\sqrt{2}}\n",
    "\\end{pmatrix} =\n",
    "|-\\rangle\n",
    "$$\n",
    "\n",
    "This operation can be denotated with this Operator."
   ]
  },
  {
   "cell_type": "code",
   "execution_count": 1,
   "metadata": {},
   "outputs": [],
   "source": [
    "import numpy as np\n",
    "from qiskit.quantum_info import Operator\n",
    "\n",
    "\n",
    "H = Operator([[1 / np.sqrt(2), 1 / np.sqrt(2)], [1 / np.sqrt(2), -1 / np.sqrt(2)]])"
   ]
  }
 ],
 "metadata": {
  "kernelspec": {
   "display_name": "Python 3",
   "language": "python",
   "name": "python3"
  },
  "language_info": {
   "codemirror_mode": {
    "name": "ipython",
    "version": 3
   },
   "file_extension": ".py",
   "mimetype": "text/x-python",
   "name": "python",
   "nbconvert_exporter": "python",
   "pygments_lexer": "ipython3",
   "version": "3.12.0"
  }
 },
 "nbformat": 4,
 "nbformat_minor": 2
}
