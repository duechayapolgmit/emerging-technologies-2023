{
 "cells": [
  {
   "cell_type": "markdown",
   "metadata": {},
   "source": [
    "# Deutsche's Algorithm\n",
    "\n",
    "*By Chayapol \"Due\" Hongsrimuang, G00388741*\n",
    "\n",
    "---"
   ]
  },
  {
   "cell_type": "markdown",
   "metadata": {},
   "source": [
    "## Introduction\n",
    "Deutsche's algorithm is a quantum query algorithm. It is an improved version of David Deutsch's 1985 paper, where it serves as a Theoretical foundation of quantum computing.\n",
    "\n",
    "This algorithm makes use of Hadamard gates and a query gate to compute the result. However, Pauli operations may be involved as well, depending on the state that is passed into the circuit.\n",
    "\n",
    "While the algorithm is simple to understand, the basics of quantum computing would be needed to understand the algorithm itself. This notebook will walkthrough the concepts covered in the algorithm before tackling on the algorithm itself."
   ]
  },
  {
   "cell_type": "markdown",
   "metadata": {},
   "source": [
    "# Quantum information\n",
    "Quantum information serves as a way to describe the quantum state of a computing system. A quantum system has a set of two quantum states, those being quantum bits (or qubits, for short). The state is represented by a column vector with the system described as follows:\n",
    "* All the entires are complex numbers\n",
    "* The sum of the **absolute values squared** of the entries must be equal to 1.\n",
    "This differs from classical information, where it only concerns non-negative numbers and adding all the entries to 1 without any prerequisite calculations."
   ]
  },
  {
   "cell_type": "markdown",
   "metadata": {},
   "source": [
    "The system's column vector is described by this formula.\n",
    "$$\n",
    "||v|| = \\sqrt{\\sum_{k=1}^n |\\alpha_k|^2}\n",
    "$$\n",
    "\n",
    "Qubit states are not only described by just 0 and 1, but also with + and - states, which are used in Hadamard gates described later on.\n",
    "\n",
    "Dirac notations (or bra-ket notation) can be used to describe the qubit state vectors, as this form:\n",
    "$$\n",
    "|0\\rangle \\; |1\\rangle\n",
    "$$\n",
    "When expanded, it produces these column vectors:\n",
    "$$\n",
    "|0\\rangle = \\left( \\begin{array}{c} 1 \\\\ 0 \\end{array} \\right), |1\\rangle = \\left( \\begin{array}{c} 0 \\\\ 1 \\end{array} \\right)\n",
    "$$\n",
    "The number 1 is placed where the location of each state vector is, e.g $ |0\\rangle $ has 1 in the top position.\n",
    "\n",
    "In Python, this can be in a form of an array for each state vector:"
   ]
  },
  {
   "cell_type": "code",
   "execution_count": 5,
   "metadata": {},
   "outputs": [],
   "source": [
    "import numpy as np\n",
    "\n",
    "qv0 = np.array([1, 0])\n",
    "qv1 = np.array([0, 1])"
   ]
  },
  {
   "cell_type": "markdown",
   "metadata": {},
   "source": [
    "## Deterministic Operations\n",
    "\n",
    "Operations can be done on these states, and with two entries of the system: $ \\Sigma = \\{ 0, 1 \\} $, deterministic operations can be applied onto to produce their functions. These are completely determined by input, without any probability as a factor.\n",
    "\n",
    "With this, a form of the states can be derived to create a function.\n",
    "\n",
    "$$ f: \\Sigma \\rightarrow \\Sigma $$\n",
    "\n",
    "In the case of the two entries mentioned, there are four possible functions that can be derived from via the form above.\n",
    "\n",
    "![Picture of values when deterministic operations are done on the entries](pictures/quantum_function_mapping.png)\n",
    "\n",
    "*Figure 1. Values when deterministic operations are done on the entries - from IBM Quantum Learning*"
   ]
  },
  {
   "cell_type": "markdown",
   "metadata": {},
   "source": [
    "* The functions of $ f_1 $ and $ f_4 $ are considered as **constant** functions, where they produce constant outputs of 0 and 1 respectively.\n",
    "* The functions of $ f_2 $ and $ f_3 $ are considered as **balanced** functions, where two values appear equally for each possible outcomes.\n",
    "    - $ f_2 $ is an identity function, where an input is equal to the output\n",
    "    - $ f_3 $ is a NOT function, or a bit flip\n",
    "\n",
    "These functions would play a key role in Deutsch's algorithm described later on."
   ]
  },
  {
   "cell_type": "markdown",
   "metadata": {},
   "source": [
    "# Operations (or Gates)\n",
    "Deutsche's algorithm involves two key unitary operations to be applied for each bit passing through. Those being Pauli operations and Hadamard operations."
   ]
  },
  {
   "cell_type": "markdown",
   "metadata": {},
   "source": [
    "## Pauli Operations\n",
    "\n",
    "Pauli operations contain a set of 3 matrices, each representing flips.\n",
    "\n",
    "$$\n",
    "\\sigma_x =\n",
    "\\begin{pmatrix}\n",
    "0 & 1 \\\\\n",
    "1 & 0 \n",
    "\\end{pmatrix} \\;\n",
    "\\sigma_y =\n",
    "\\begin{pmatrix}\n",
    "0 & -i \\\\\n",
    "i & 0 \n",
    "\\end{pmatrix} \\;\n",
    "\\sigma_z =\n",
    "\\begin{pmatrix}\n",
    "1 & 0 \\\\\n",
    "0 & -1 \n",
    "\\end{pmatrix}\n",
    "$$\n",
    "where $ i $ is an imaginary number equalling to $ \\sqrt{-1} $\n",
    "\n",
    "These operators have different purposes affecting the bit that is input in.\n",
    "* $ \\sigma_x $ = bit flip operator\n",
    "* $ \\sigma_y $ = bit and phase flip operator\n",
    "* $ \\sigma_z $ = phase flip operator\n",
    "\n",
    "These are denoted via these Operator in Python. Each operator takes in a list of matrix rows."
   ]
  },
  {
   "cell_type": "code",
   "execution_count": 6,
   "metadata": {},
   "outputs": [],
   "source": [
    "from qiskit.quantum_info import Operator\n",
    "\n",
    "# j denotes the imaginary number\n",
    "X = Operator([[0, 1], [1,0]])\n",
    "Y = Operator([[0, -1.0j], [1.0j, 0]])\n",
    "Z = Operator([[1,0], [0, -1]])"
   ]
  },
  {
   "cell_type": "markdown",
   "metadata": {},
   "source": [
    "## Hadamard Operation\n",
    "\n",
    "Hadamard operation (or Hadamard gate) is a unitary operation on a qubit, represented by H, and has these basic qubit states:\n",
    "\n",
    "$$\n",
    "|0\\rangle = \\frac{|0\\rangle+|1\\rangle}{\\sqrt{2}},\\:\n",
    "|1\\rangle = \\frac{|0\\rangle-|1\\rangle}{\\sqrt{2}}\n",
    "$$\n",
    "\n",
    "Which maps into the following matrix.\n",
    "\n",
    "$$\n",
    "\\begin{pmatrix}\n",
    "\\frac{1}{\\sqrt{2}} & \\frac{1}{\\sqrt{2}} \\\\\n",
    "\\frac{1}{\\sqrt{2}} & - \\frac{1}{\\sqrt{2}} \n",
    "\\end{pmatrix}\n",
    "$$"
   ]
  },
  {
   "cell_type": "markdown",
   "metadata": {},
   "source": [
    "Each qubit state, when parsed through would transform the qubit between the regular 0 and 1 state with the + and - state as follow:\n",
    "\n",
    "$$\n",
    "H|0\\rangle = \\begin{pmatrix}\n",
    "\\frac{1}{\\sqrt{2}} & \\frac{1}{\\sqrt{2}} \\\\\n",
    "\\frac{1}{\\sqrt{2}} & - \\frac{1}{\\sqrt{2}} \n",
    "\\end{pmatrix}\n",
    "\\begin{pmatrix} 1 \\\\ 0 \\end{pmatrix} = \n",
    "\\begin{pmatrix}\n",
    "\\frac{1}{\\sqrt{2}}\\\\\n",
    "\\frac{1}{\\sqrt{2}}\n",
    "\\end{pmatrix} =\n",
    "|+\\rangle\n",
    "$$\n",
    "$$\n",
    "H|1\\rangle = \\begin{pmatrix}\n",
    "\\frac{1}{\\sqrt{2}} & \\frac{1}{\\sqrt{2}} \\\\\n",
    "\\frac{1}{\\sqrt{2}} & - \\frac{1}{\\sqrt{2}} \n",
    "\\end{pmatrix}\n",
    "\\begin{pmatrix} 0 \\\\ 1 \\end{pmatrix} = \n",
    "\\begin{pmatrix}\n",
    "\\frac{1}{\\sqrt{2}}\\\\\n",
    "- \\frac{1}{\\sqrt{2}}\n",
    "\\end{pmatrix} =\n",
    "|-\\rangle\n",
    "$$\n",
    "\n",
    "The $ |+\\rangle $ state can be expanded to a linearity approach.\n",
    "$$\n",
    "|+\\rangle = \\frac{1}{\\sqrt{2}}(|0\\rangle + |1\\rangle)\n",
    "$$\n",
    "\n",
    "This operation can be denotated with this Operator."
   ]
  },
  {
   "cell_type": "code",
   "execution_count": 7,
   "metadata": {},
   "outputs": [],
   "source": [
    "H = Operator([[1 / np.sqrt(2), 1 / np.sqrt(2)], [1 / np.sqrt(2), -1 / np.sqrt(2)]])"
   ]
  },
  {
   "cell_type": "markdown",
   "metadata": {},
   "source": [
    "# Querying\n",
    "Querying the main key part of quantum computing, In opposed to the classical way of directly getting an output from a computation via an input, the output is produced by making multiple queries to the computation\n",
    "\n",
    "![Picture of quantum querying model](pictures/quantum_query.png)\n",
    "\n",
    "*Figure 2. Quantum querying model - from IBM Quantum Learning*\n",
    "\n",
    "The computation that is providing the output, is often called a **black box**, as we often don't know how the computation works.\n",
    "\n",
    "This, therefore, can be represented by this mapping:\n",
    "\n",
    "$$\n",
    "f : \\Sigma^n \\rightarrow \\Sigma^m\n",
    "$$\n",
    "\n",
    "The letters $n$ and $m$ represents the legnth of each string. The function maps the string of length n to length m, when string is either 0 or a 1.\n",
    "\n",
    "This query model solves some of the natural query problems that can occur. One particular problem that Deutsch's Algorithm is the parity problem."
   ]
  },
  {
   "cell_type": "markdown",
   "metadata": {},
   "source": [
    "## Parity Problem\n",
    "The parity can be treated as an XOR of the bits given. The input and output are described as follows:\n",
    "* Input: form of $ f : \\Sigma^n \\rightarrow \\Sigma^m $\n",
    "* Output: if $f(x) = 1 $ for number of strings $ x \\in \\Sigma^n $\n",
    "    - 0: an even number\n",
    "    - 1: an odd number\n",
    "\n",
    "The function can be represented by a sequence of $ 2^n $ bits. The key problem to this issue is to compute the XOR in the sequence."
   ]
  },
  {
   "cell_type": "markdown",
   "metadata": {},
   "source": [
    "## Query gates\n",
    "Query gates allow queries to be made. In quantum circuit models, they are **unitary** (compared to Boolean circuit models, where they compute the input function directly).\n",
    "\n",
    "This can be identified as this equation:\n",
    "$$\n",
    "U_f(|y\\rangle|x\\rangle) = |y\\oplus f(x)\\rangle|x\\rangle\n",
    "$$\n",
    "This query gate acts on $ n + m $ qubits, for all $ x \\in \\Sigma^n $ and $ y \\in \\Sigma^m $. The output for $ |y\\oplus f(x)\\rangle $ is done by XOR-ing them together.\n",
    "\n",
    "This gate is a deterministic operation, a permutation matrix would be produced from this. A permutation matrix can be described to have only a 1 in each row, and only a 1 in each column, with the rest being 0s. Example being this matrix:\n",
    "\n",
    "$$\n",
    "\\begin{bmatrix}\n",
    "1 & 0 & 0 \\\\\n",
    "0 & 1 & 0 \\\\\n",
    "0 & 0 & 1 \\\\\n",
    "\\end{bmatrix}\n",
    "$$"
   ]
  },
  {
   "cell_type": "markdown",
   "metadata": {},
   "source": [
    "## Phase Kickback\n",
    "This applies with this formula:\n",
    "$$\n",
    "| b \\oplus c \\rangle = X^c|b\\rangle\n",
    "$$\n",
    "* If a bit is XOR-ed by a value of 1, it turns into a NOT gate.\n",
    "* If a bit is XOR-ed by a value of 0, it will not do anything, but instead it is an identity function.\n",
    "\n",
    "This phase kickback phenomenon is done in the case of when we use query gates as follows:\n",
    "$$ \n",
    "U_f(|b\\rangle|a\\rangle) = |b \\oplus f(a)\\rangle|a\\rangle = (X^{f(a)}|b\\rangle)a\\rangle\n",
    "$$\n",
    "And that the X operation applying to the minus state gives -1 times the minus state as follows:\n",
    "$$\n",
    "X|-\\rangle = -|-\\rangle\n",
    "$$\n",
    "With this in mind, the state vector can be simplified by the following:\n",
    "$$\n",
    "U_f(|-\\rangle|a\\rangle) = (-1)^{f(a)}|-\\rangle|a\\rangle\n",
    "$$\n",
    "This phase kickback phenomenon will become a key part of query gates in Deutsch's algorithm."
   ]
  },
  {
   "cell_type": "markdown",
   "metadata": {},
   "source": [
    "# The Algorithm\n",
    "With the basics covered, the algorithm is described as follows in Qiskit:"
   ]
  },
  {
   "cell_type": "code",
   "execution_count": 8,
   "metadata": {},
   "outputs": [
    {
     "data": {
      "text/html": [
       "<pre style=\"word-wrap: normal;white-space: pre;background: #fff0;line-height: 1.1;font-family: &quot;Courier New&quot;,Courier,monospace\">     ┌───┐      ░            ░ ┌───┐┌─┐\n",
       "q_0: ┤ H ├──────░───■────────░─┤ H ├┤M├\n",
       "     ├───┤┌───┐ ░ ┌─┴─┐┌───┐ ░ └───┘└╥┘\n",
       "q_1: ┤ X ├┤ H ├─░─┤ X ├┤ X ├─░───────╫─\n",
       "     └───┘└───┘ ░ └───┘└───┘ ░       ║ \n",
       "c: 1/════════════════════════════════╩═\n",
       "                                     0 </pre>"
      ],
      "text/plain": [
       "     ┌───┐      ░            ░ ┌───┐┌─┐\n",
       "q_0: ┤ H ├──────░───■────────░─┤ H ├┤M├\n",
       "     ├───┤┌───┐ ░ ┌─┴─┐┌───┐ ░ └───┘└╥┘\n",
       "q_1: ┤ X ├┤ H ├─░─┤ X ├┤ X ├─░───────╫─\n",
       "     └───┘└───┘ ░ └───┘└───┘ ░       ║ \n",
       "c: 1/════════════════════════════════╩═\n",
       "                                     0 "
      ]
     },
     "execution_count": 8,
     "metadata": {},
     "output_type": "execute_result"
    }
   ],
   "source": [
    "import qiskit as qc\n",
    "\n",
    "# From IBM Quantum Learning\n",
    "def deutsch(case: int):\n",
    "    if case not in [1, 2, 3, 4]:\n",
    "        raise ValueError(\"Number passed must be in 1-4\")\n",
    "\n",
    "    f = qc.QuantumCircuit(2)\n",
    "    if case in [2, 3]:\n",
    "        f.cx(0, 1)\n",
    "    if case in [3, 4]:\n",
    "        f.x(1)\n",
    "    return f\n",
    "\n",
    "def compile(function: qc.QuantumCircuit):\n",
    "    n = function.num_qubits - 1\n",
    "    c = qc.QuantumCircuit(n + 1, n)\n",
    "\n",
    "    c.x(n)\n",
    "    c.h(range(n+1))\n",
    "\n",
    "    c.barrier()\n",
    "    c.compose(function, inplace=True)\n",
    "    c.barrier()\n",
    "\n",
    "    c.h(range(n))\n",
    "    c.measure(range(n), range(n))\n",
    "\n",
    "    return c\n",
    "\n",
    "compile(deutsch(3)).draw()\n"
   ]
  },
  {
   "cell_type": "markdown",
   "metadata": {},
   "source": [
    "With this algorithm, this can be separated into 5 parts using $ \\psi $\n",
    "* $ |\\psi_0\\rangle $ (beginning of the circuit)\n",
    "    - The initial state started with $ |00\\rangle $\n",
    "* $ |\\psi_1\\rangle $ = the bottom qubit is passed through the X gate, a Pauli operation. \n",
    "    - The state is now $ |01\\rangle $\n",
    "* $ |\\psi_2\\rangle $ = the qubits are passed through the Hadamard gates, changing the state from binary to signs (+ or -)\n",
    "    - The state is now $ |+-\\rangle $ or written as\n",
    "    $$\n",
    "        |\\psi_2\\rangle = \\frac{1}{\\sqrt{2}}(|0\\rangle|-\\rangle + |1\\rangle|-\\rangle)\n",
    "    $$\n",
    "* $ |\\psi_3\\rangle $ = the state is now passed into the query gate, with phase kickback occuring during this\n",
    "    $$\n",
    "        |\\psi_3\\rangle = U_f\\frac{1}{\\sqrt{2}}(|0\\rangle|-\\rangle + |1\\rangle|-\\rangle)\n",
    "    $$\n",
    "    $$\n",
    "        |\\psi_3\\rangle = \\frac{1}{\\sqrt{2}}((-1)^{f(0)}|0\\rangle + (-1)^{f(1)}|1\\rangle)\n",
    "    $$\n",
    "    - This can then be deduced, depending on the value of the XOR of the two functions, f(0) and f(1)\n",
    "    $$\n",
    "        |\\psi_3\\rangle = \n",
    "        \\left\\{\\begin{array}{rcl}\n",
    "        (-1)^{f(0)}|-\\rangle|+\\rangle & f(0) \\oplus f(1) = 0 \\\\\n",
    "        (-1)^{f(0)}|-\\rangle|-\\rangle & f(0) \\oplus f(1) = 1\n",
    "        \\end{array}\\right.\n",
    "\n",
    "    $$\n",
    "* $ |\\psi_4\\rangle $ = the top qubit is passed through the Hadamard gate, giving a certainty to the problem.\n",
    "    $$\n",
    "        |\\psi_4\\rangle = \n",
    "        \\left\\{\\begin{array}{rcl}\n",
    "        (-1)^{f(0)}|-\\rangle|0\\rangle & f(0) \\oplus f(1) = 0 \\\\\n",
    "        (-1)^{f(0)}|-\\rangle|1\\rangle & f(0) \\oplus f(1) = 1\n",
    "        \\end{array}\\right.\n",
    "    $$\n",
    "    $$\n",
    "        |\\psi_4\\rangle = (-1)^{f(0)}|-\\rangle|f(0) \\oplus f(1)\\rangle\n",
    "    $$\n",
    "    - The top qubit is then measured, with XOR of f(0) and f(1)\n",
    "    \n",
    "Interference makes this algorithm work by computing f(0) and f(1) at the same time, with the phase kickback allowing constructive interference for the correct answer or destructive interference for the wrong answer.\n",
    "\n",
    "(insert more analysis from ian's notes and parity problem here)"
   ]
  },
  {
   "cell_type": "markdown",
   "metadata": {},
   "source": [
    "# Resources Used\n",
    "* IBM Quantum Learning (Basics of quantum information - Single systems) = https://learning.quantum.ibm.com/course/basics-of-quantum-information/single-systems\n",
    "* IBM Quantum Learning (Fundamentals of Quantum algorithms - Quantum query algorithms) = https://learning.quantum.ibm.com/course/fundamentals-of-quantum-algorithms/quantum-query-algorithms"
   ]
  },
  {
   "cell_type": "markdown",
   "metadata": {},
   "source": [
    "---\n",
    "End"
   ]
  }
 ],
 "metadata": {
  "kernelspec": {
   "display_name": "Python 3",
   "language": "python",
   "name": "python3"
  },
  "language_info": {
   "codemirror_mode": {
    "name": "ipython",
    "version": 3
   },
   "file_extension": ".py",
   "mimetype": "text/x-python",
   "name": "python",
   "nbconvert_exporter": "python",
   "pygments_lexer": "ipython3",
   "version": "3.11.1"
  }
 },
 "nbformat": 4,
 "nbformat_minor": 2
}
