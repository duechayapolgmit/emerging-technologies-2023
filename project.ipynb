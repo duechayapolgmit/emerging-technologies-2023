{
 "cells": [
  {
   "cell_type": "markdown",
   "metadata": {},
   "source": [
    "# Deutsche's Algorithm\n",
    "\n",
    "*By Chayapol \"Due\" Hongsrimuang, G00388741*\n",
    "\n",
    "---\n",
    "\n",
    "## Introduction\n",
    "Deutsche's algorithm is ...."
   ]
  },
  {
   "cell_type": "code",
   "execution_count": null,
   "metadata": {},
   "outputs": [],
   "source": []
  },
  {
   "cell_type": "markdown",
   "metadata": {},
   "source": [
    "# Operations (or Gates)\n",
    "Deutsche's algorithm involves two key unitary operations to be applied for each bit passing through. Those being Pauli operations and Hadamard operations."
   ]
  },
  {
   "cell_type": "markdown",
   "metadata": {},
   "source": [
    "## Pauli Operations\n",
    "\n",
    "Pauli operations contain a set of 3 matrices, each representing flips.\n",
    "\n",
    "$$\n",
    "\\sigma_x =\n",
    "\\begin{pmatrix}\n",
    "0 & 1 \\\\\n",
    "1 & 0 \n",
    "\\end{pmatrix} \\;\n",
    "\\sigma_y =\n",
    "\\begin{pmatrix}\n",
    "0 & -i \\\\\n",
    "i & 0 \n",
    "\\end{pmatrix} \\;\n",
    "\\sigma_z =\n",
    "\\begin{pmatrix}\n",
    "1 & 0 \\\\\n",
    "0 & -1 \n",
    "\\end{pmatrix}\n",
    "$$\n",
    "where $ i $ is an imaginary number equalling to $ \\sqrt{-1} $\n",
    "\n",
    "These operators have different purposes affecting the bit that is input in.\n",
    "* $ \\sigma_x $ = bit flip operator\n",
    "* $ \\sigma_y $ = bit and phase flip operator\n",
    "* $ \\sigma_z $ = phase flip operator\n",
    "\n",
    "These are denoted via these Operator in Python. Each operator takes in a list of matrix rows."
   ]
  },
  {
   "cell_type": "code",
   "execution_count": null,
   "metadata": {},
   "outputs": [],
   "source": [
    "from qiskit.quantum_info import Operator\n",
    "\n",
    "# j denotes the imaginary number\n",
    "X = Operator([[0, 1], [1,0]])\n",
    "Y = Operator([[0, -1.0j], [1.0j, 0]])\n",
    "Z = Operator([[1,0], [0, -1]])"
   ]
  },
  {
   "cell_type": "markdown",
   "metadata": {},
   "source": [
    "## Hadamard Operation\n",
    "\n",
    "Hadamard operation (or Hadamard gate) is a unitary operation on a qubit, represented by H, and has these basic qubit states:\n",
    "\n",
    "$$\n",
    "|0\\rangle = \\frac{|0\\rangle+|1\\rangle}{\\sqrt{2}}\n",
    "|1\\rangle = \\frac{|0\\rangle-|1\\rangle}{\\sqrt{2}}\n",
    "$$\n",
    "\n",
    "Which maps into the following matrix.\n",
    "\n",
    "$$\n",
    "\\begin{pmatrix}\n",
    "\\frac{1}{\\sqrt{2}} & \\frac{1}{\\sqrt{2}} \\\\\n",
    "\\frac{1}{\\sqrt{2}} & - \\frac{1}{\\sqrt{2}} \n",
    "\\end{pmatrix}\n",
    "$$\n",
    "\n",
    "Each qubit state, when parsed through would transform the qubit between the regular 0 and 1 state with the + and - state as follow:\n",
    "\n",
    "$$\n",
    "H|0\\rangle = \\begin{pmatrix}\n",
    "\\frac{1}{\\sqrt{2}} & \\frac{1}{\\sqrt{2}} \\\\\n",
    "\\frac{1}{\\sqrt{2}} & - \\frac{1}{\\sqrt{2}} \n",
    "\\end{pmatrix}\n",
    "\\begin{pmatrix} 1 \\\\ 0 \\end{pmatrix} = \n",
    "\\begin{pmatrix}\n",
    "\\frac{1}{\\sqrt{2}}\\\\\n",
    "\\frac{1}{\\sqrt{2}}\n",
    "\\end{pmatrix} =\n",
    "|+\\rangle\n",
    "$$\n",
    "$$\n",
    "H|1\\rangle = \\begin{pmatrix}\n",
    "\\frac{1}{\\sqrt{2}} & \\frac{1}{\\sqrt{2}} \\\\\n",
    "\\frac{1}{\\sqrt{2}} & - \\frac{1}{\\sqrt{2}} \n",
    "\\end{pmatrix}\n",
    "\\begin{pmatrix} 0 \\\\ 1 \\end{pmatrix} = \n",
    "\\begin{pmatrix}\n",
    "\\frac{1}{\\sqrt{2}}\\\\\n",
    "- \\frac{1}{\\sqrt{2}}\n",
    "\\end{pmatrix} =\n",
    "|-\\rangle\n",
    "$$\n",
    "\n",
    "This operation can be denotated with this Operator."
   ]
  },
  {
   "cell_type": "code",
   "execution_count": 1,
   "metadata": {},
   "outputs": [],
   "source": [
    "import numpy as np\n",
    "\n",
    "H = Operator([[1 / np.sqrt(2), 1 / np.sqrt(2)], [1 / np.sqrt(2), -1 / np.sqrt(2)]])"
   ]
  },
  {
   "cell_type": "markdown",
   "metadata": {},
   "source": [
    "# Querying\n",
    "Querying the main key part of quantum computing, In opposed to the classical way of directly getting an output from a computation via an input, the output is produced by making multiple queries to the computation\n",
    "\n",
    "![Picture of qunatum querying model](pictures/quantum_query.png)\n",
    "\n",
    "*Figure 1. Quantum querying model - from IBM Quantum Learning*\n",
    "\n",
    "The computation that is providing the output, is often called a **black box**, as we often don't know how the computation works.\n",
    "\n",
    "This, therefore, can be represented by this mapping:\n",
    "\n",
    "$$\n",
    "f : \\Sigma^n \\rightarrow \\Sigma^m\n",
    "$$\n",
    "\n",
    "The letters $n$ and $m$ represents the legnth of each string. The function maps the string of length n to length m, when string is either 0 or a 1.\n",
    "\n",
    "This query model solves some of the natural query problems that can occur. One particular problem that Deutsch's Algorithm is the parity problem."
   ]
  },
  {
   "cell_type": "markdown",
   "metadata": {},
   "source": [
    "## Parity Problem\n",
    "The parity can be treated as an XOR of the bits given. The input and output are described as follows:\n",
    "* Input: form of $ f : \\Sigma^n \\rightarrow \\Sigma^m $\n",
    "* Output: if $f(x) = 1 $ for number of strings $ x \\in \\Sigma^n $\n",
    "    - 0: an even number\n",
    "    - 1: an odd number"
   ]
  },
  {
   "cell_type": "markdown",
   "metadata": {},
   "source": [
    "## Query gates\n",
    "Query gates allow queries to be made. In quantum circuit models, they are **unitary** (compared to Boolean circuit models, where they compute the input function directly).\n",
    "\n",
    "This can be identified as this equation:\n",
    "$$\n",
    "U_f(|y\\rangle|x\\rangle) = |y\\oplus f(x)\\rangle|x\\rangle\n",
    "$$\n",
    "This query gate acts on $ n + m $ qubits, for all $ x \\in \\Sigma^n $ and $ y \\in \\Sigma^m $. The output for $ |y\\oplus f(x)\\rangle $ is done by XOR-ing them together.\n",
    "\n",
    "This gate is a deterministic operation, a permutation matrix would be produced from this. A permutation matrix can be described to have only a 1 in each row, and only a 1 in each column, with the rest being 0s. Example being this matrix:\n",
    "\n",
    "$$\n",
    "\\begin{bmatrix}\n",
    "1 & 0 & 0 \\\\\n",
    "0 & 1 & 0 \\\\\n",
    "0 & 0 & 1 \\\\\n",
    "\\end{bmatrix}\n",
    "$$"
   ]
  },
  {
   "cell_type": "markdown",
   "metadata": {},
   "source": [
    "# The Algorithm\n",
    "With the basics covered, the algorithm is described as follows in Qiskit:"
   ]
  },
  {
   "cell_type": "markdown",
   "metadata": {},
   "source": [
    "# Resources Used\n",
    "* IBM Quantum Learning (Basics of quantum information - Single systems) = https://learning.quantum.ibm.com/course/basics-of-quantum-information/single-systems\n",
    "* IBM Quantum Learning (Fundamentals of Quantum algorithms - Quantum query algorithms) = https://learning.quantum.ibm.com/course/fundamentals-of-quantum-algorithms/quantum-query-algorithms"
   ]
  },
  {
   "cell_type": "markdown",
   "metadata": {},
   "source": [
    "---\n",
    "## End"
   ]
  }
 ],
 "metadata": {
  "kernelspec": {
   "display_name": "Python 3",
   "language": "python",
   "name": "python3"
  },
  "language_info": {
   "codemirror_mode": {
    "name": "ipython",
    "version": 3
   },
   "file_extension": ".py",
   "mimetype": "text/x-python",
   "name": "python",
   "nbconvert_exporter": "python",
   "pygments_lexer": "ipython3",
   "version": "3.11.1"
  }
 },
 "nbformat": 4,
 "nbformat_minor": 2
}
