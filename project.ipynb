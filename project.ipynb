{
 "cells": [
  {
   "cell_type": "markdown",
   "metadata": {},
   "source": [
    "# Deutsche's Algorithm\n",
    "\n",
    "*By Chayapol \"Due\" Hongsrimuang, G00388741*\n",
    "\n",
    "---\n",
    "\n",
    "## Introduction\n",
    "Deutsche's algorithm is ...."
   ]
  },
  {
   "cell_type": "markdown",
   "metadata": {},
   "source": [
    "# Operations (or Gates)\n",
    "Deutsche's algorithm involves a number of unitary (...) operations to be applied for each bit passing through."
   ]
  },
  {
   "cell_type": "markdown",
   "metadata": {},
   "source": [
    "## Pauli Operations\n",
    "\n",
    "Pauli operations contain a set of 3 matrices, each representing flips.\n",
    "\n",
    "$$\n",
    "\\sigma_x =\n",
    "\\begin{pmatrix}\n",
    "0 & 1 \\\\\n",
    "1 & 0 \n",
    "\\end{pmatrix} \\;\n",
    "\\sigma_y =\n",
    "\\begin{pmatrix}\n",
    "0 & -i \\\\\n",
    "i & 0 \n",
    "\\end{pmatrix} \\;\n",
    "\\sigma_z =\n",
    "\\begin{pmatrix}\n",
    "1 & 0 \\\\\n",
    "0 & -1 \n",
    "\\end{pmatrix}\n",
    "$$\n",
    "where $ i $ is an imaginary number equalling to $ \\sqrt{-1} $\n",
    "\n",
    "These operators have different purposes affecting the bit that is input in.\n",
    "* $ \\sigma_x $ = bit flip operator\n",
    "* $ \\sigma_y $ = bit and phase flip operator\n",
    "* $ \\sigma_z $ = phase flip operator\n",
    "\n",
    "These are denoted via these Operator in Python. Each operator takes in a list of matrix rows."
   ]
  },
  {
   "cell_type": "code",
   "execution_count": null,
   "metadata": {},
   "outputs": [],
   "source": [
    "from qiskit.quantum_info import Operator\n",
    "\n",
    "# j denotes the imaginary number\n",
    "X = Operator([[0, 1], [1,0]])\n",
    "Y = Operator([[0, -1.0j], [1.0j, 0]])\n",
    "Z = Operator([[1,0], [0, -1]])"
   ]
  },
  {
   "cell_type": "markdown",
   "metadata": {},
   "source": [
    "## Hadamard Operation\n",
    "\n",
    "Hadamard operation (or Hadamard gate) is a unitary operation on a qubit, represented by H, and has these basic qubit states:\n",
    "\n",
    "$$\n",
    "|0\\rangle = \\frac{|0\\rangle+|1\\rangle}{\\sqrt{2}}\n",
    "|1\\rangle = \\frac{|0\\rangle-|1\\rangle}{\\sqrt{2}}\n",
    "$$\n",
    "\n",
    "Which maps into the following matrix.\n",
    "\n",
    "$$\n",
    "\\begin{pmatrix}\n",
    "\\frac{1}{\\sqrt{2}} & \\frac{1}{\\sqrt{2}} \\\\\n",
    "\\frac{1}{\\sqrt{2}} & - \\frac{1}{\\sqrt{2}} \n",
    "\\end{pmatrix}\n",
    "$$\n",
    "\n",
    "Each qubit state, when parsed through would transform the qubit between the regular 0 and 1 state with the + and - state as follow:\n",
    "\n",
    "$$\n",
    "H|0\\rangle = \\begin{pmatrix}\n",
    "\\frac{1}{\\sqrt{2}} & \\frac{1}{\\sqrt{2}} \\\\\n",
    "\\frac{1}{\\sqrt{2}} & - \\frac{1}{\\sqrt{2}} \n",
    "\\end{pmatrix}\n",
    "\\begin{pmatrix} 1 \\\\ 0 \\end{pmatrix} = \n",
    "\\begin{pmatrix}\n",
    "\\frac{1}{\\sqrt{2}}\\\\\n",
    "\\frac{1}{\\sqrt{2}}\n",
    "\\end{pmatrix} =\n",
    "|+\\rangle\n",
    "$$\n",
    "$$\n",
    "H|1\\rangle = \\begin{pmatrix}\n",
    "\\frac{1}{\\sqrt{2}} & \\frac{1}{\\sqrt{2}} \\\\\n",
    "\\frac{1}{\\sqrt{2}} & - \\frac{1}{\\sqrt{2}} \n",
    "\\end{pmatrix}\n",
    "\\begin{pmatrix} 0 \\\\ 1 \\end{pmatrix} = \n",
    "\\begin{pmatrix}\n",
    "\\frac{1}{\\sqrt{2}}\\\\\n",
    "- \\frac{1}{\\sqrt{2}}\n",
    "\\end{pmatrix} =\n",
    "|-\\rangle\n",
    "$$\n",
    "\n",
    "This operation can be denotated with this Operator."
   ]
  },
  {
   "cell_type": "code",
   "execution_count": 1,
   "metadata": {},
   "outputs": [],
   "source": [
    "import numpy as np\n",
    "\n",
    "H = Operator([[1 / np.sqrt(2), 1 / np.sqrt(2)], [1 / np.sqrt(2), -1 / np.sqrt(2)]])"
   ]
  },
  {
   "cell_type": "markdown",
   "metadata": {},
   "source": [
    "---\n",
    "## End"
   ]
  }
 ],
 "metadata": {
  "kernelspec": {
   "display_name": "Python 3",
   "language": "python",
   "name": "python3"
  },
  "language_info": {
   "codemirror_mode": {
    "name": "ipython",
    "version": 3
   },
   "file_extension": ".py",
   "mimetype": "text/x-python",
   "name": "python",
   "nbconvert_exporter": "python",
   "pygments_lexer": "ipython3",
   "version": "3.11.1"
  }
 },
 "nbformat": 4,
 "nbformat_minor": 2
}
